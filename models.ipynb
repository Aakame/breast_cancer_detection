{
 "cells": [
  {
   "cell_type": "code",
   "execution_count": 1,
   "metadata": {},
   "outputs": [],
   "source": [
    "import numpy as np\n",
    "import pandas as pd\n",
    "import pickle\n",
    "from sklearn.model_selection import train_test_split\n",
    "from sklearn.metrics import accuracy_score, recall_score, f1_score, confusion_matrix, plot_confusion_matrix\n",
    "from matplotlib import pyplot as plt\n",
    "from sklearn.calibration import cross_val_predict\n",
    "from sklearn.svm import SVC\n",
    "from sklearn.ensemble import RandomForestClassifier\n",
    "from sklearn.linear_model import LogisticRegression\n",
    "from sklearn.neighbors import KNeighborsClassifier\n",
    "from sklearn.ensemble import GradientBoostingClassifier\n",
    "from sklearn.tree import DecisionTreeClassifier\n",
    "from sklearn.naive_bayes import GaussianNB\n",
    "from sklearn.neural_network import MLPClassifier\n",
    "from sklearn.model_selection import GridSearchCV\n",
    "from sklearn.model_selection import KFold\n",
    "from sklearn.model_selection import cross_val_score"
   ]
  },
  {
   "cell_type": "code",
   "execution_count": 2,
   "metadata": {},
   "outputs": [],
   "source": [
    "df=pd.read_pickle('.\\\\data\\\\cleaned_std_df.pkl')\n",
    "df_pca=pd.read_pickle('.\\\\data\\\\pca4_df.pkl')"
   ]
  },
  {
   "cell_type": "code",
   "execution_count": 3,
   "metadata": {},
   "outputs": [
    {
     "data": {
      "text/html": [
       "<div>\n",
       "<style scoped>\n",
       "    .dataframe tbody tr th:only-of-type {\n",
       "        vertical-align: middle;\n",
       "    }\n",
       "\n",
       "    .dataframe tbody tr th {\n",
       "        vertical-align: top;\n",
       "    }\n",
       "\n",
       "    .dataframe thead th {\n",
       "        text-align: right;\n",
       "    }\n",
       "</style>\n",
       "<table border=\"1\" class=\"dataframe\">\n",
       "  <thead>\n",
       "    <tr style=\"text-align: right;\">\n",
       "      <th></th>\n",
       "      <th>PC1</th>\n",
       "      <th>PC2</th>\n",
       "      <th>PC3</th>\n",
       "      <th>PC4</th>\n",
       "      <th>diagnosis</th>\n",
       "    </tr>\n",
       "  </thead>\n",
       "  <tbody>\n",
       "    <tr>\n",
       "      <th>0</th>\n",
       "      <td>2.936476</td>\n",
       "      <td>-3.669310</td>\n",
       "      <td>-1.051714</td>\n",
       "      <td>-0.980591</td>\n",
       "      <td>1</td>\n",
       "    </tr>\n",
       "    <tr>\n",
       "      <th>1</th>\n",
       "      <td>6.224017</td>\n",
       "      <td>-0.910183</td>\n",
       "      <td>-0.491957</td>\n",
       "      <td>-1.431165</td>\n",
       "      <td>1</td>\n",
       "    </tr>\n",
       "    <tr>\n",
       "      <th>2</th>\n",
       "      <td>4.116492</td>\n",
       "      <td>-1.871431</td>\n",
       "      <td>-0.546454</td>\n",
       "      <td>-3.780266</td>\n",
       "      <td>1</td>\n",
       "    </tr>\n",
       "    <tr>\n",
       "      <th>3</th>\n",
       "      <td>3.162500</td>\n",
       "      <td>4.443138</td>\n",
       "      <td>-2.275751</td>\n",
       "      <td>0.445805</td>\n",
       "      <td>1</td>\n",
       "    </tr>\n",
       "    <tr>\n",
       "      <th>4</th>\n",
       "      <td>2.990830</td>\n",
       "      <td>-2.415266</td>\n",
       "      <td>-1.150427</td>\n",
       "      <td>0.397565</td>\n",
       "      <td>1</td>\n",
       "    </tr>\n",
       "  </tbody>\n",
       "</table>\n",
       "</div>"
      ],
      "text/plain": [
       "        PC1       PC2       PC3       PC4  diagnosis\n",
       "0  2.936476 -3.669310 -1.051714 -0.980591          1\n",
       "1  6.224017 -0.910183 -0.491957 -1.431165          1\n",
       "2  4.116492 -1.871431 -0.546454 -3.780266          1\n",
       "3  3.162500  4.443138 -2.275751  0.445805          1\n",
       "4  2.990830 -2.415266 -1.150427  0.397565          1"
      ]
     },
     "execution_count": 3,
     "metadata": {},
     "output_type": "execute_result"
    }
   ],
   "source": [
    "df_pca.head()"
   ]
  },
  {
   "cell_type": "code",
   "execution_count": 4,
   "metadata": {},
   "outputs": [],
   "source": [
    "y=df_pca['diagnosis']\n",
    "X=df_pca.drop('diagnosis', axis=1)\n",
    "X_train, X_test, y_train, y_test = train_test_split(X, y, test_size=0.3, random_state=2, stratify=y)"
   ]
  },
  {
   "cell_type": "code",
   "execution_count": 5,
   "metadata": {},
   "outputs": [
    {
     "name": "stdout",
     "output_type": "stream",
     "text": [
      "{'C': 1, 'gamma': 'scale', 'kernel': 'linear'}\n",
      "{'Train Recall': 0.9173553719008265, 'Test Recall': 0.9038461538461539, 'Test F1 Score': 0.9400000000000001}\n",
      "Confusion Matrix:\n",
      "[[101   1]\n",
      " [  5  47]]\n"
     ]
    },
    {
     "name": "stderr",
     "output_type": "stream",
     "text": [
      "c:\\Python310\\lib\\site-packages\\sklearn\\utils\\deprecation.py:87: FutureWarning: Function plot_confusion_matrix is deprecated; Function `plot_confusion_matrix` is deprecated in 1.0 and will be removed in 1.2. Use one of the class methods: ConfusionMatrixDisplay.from_predictions or ConfusionMatrixDisplay.from_estimator.\n",
      "  warnings.warn(msg, category=FutureWarning)\n"
     ]
    },
    {
     "data": {
      "image/png": "[encoded data removed]",
      "text/plain": [
       "<Figure size 640x480 with 2 Axes>"
      ]
     },
     "metadata": {},
     "output_type": "display_data"
    }
   ],
   "source": [
    "#baseline\n",
    "eval={}\n",
    "param_grid = {\n",
    "    'C': [0.1, 1, 10],\n",
    "    'kernel': ['linear', 'rbf'],\n",
    "    'gamma': ['scale', 'auto']\n",
    "}\n",
    "svm_model = SVC(probability=True)\n",
    "grid_search = GridSearchCV(svm_model, param_grid, cv=5)\n",
    "grid_search.fit(X_train, y_train)\n",
    "best_svm_model = grid_search.best_estimator_\n",
    "print(grid_search.best_params_)\n",
    "\n",
    "# Perform cross-validation and get predicted labels for the training set\n",
    "y_train_pred = cross_val_predict(best_svm_model, X_train, y_train, cv=5)\n",
    "\n",
    "y_test_pred = best_svm_model.predict(X_test)\n",
    "\n",
    "# recall is the most important since the goal here is to minimize false negatives (avoid predicting a malignant cancer as benign)\n",
    "train_recall = recall_score(y_train, y_train_pred)\n",
    "test_recall = recall_score(y_test, y_test_pred)\n",
    "test_f1_score = f1_score(y_test, y_test_pred)\n",
    "evaluation_dict = {\n",
    "    \"Train Recall\": train_recall,\n",
    "    \"Test Recall\": test_recall,\n",
    "    \"Test F1 Score\": test_f1_score\n",
    "}\n",
    "\n",
    "print(evaluation_dict)\n",
    "\n",
    "conf_matrix = confusion_matrix(y_test, y_test_pred)\n",
    "print(\"Confusion Matrix:\")\n",
    "print(conf_matrix)\n",
    "\n",
    "plot_confusion_matrix(best_svm_model, X_test, y_test, cmap='Blues_r')\n",
    "plt.title(\"Confusion Matrix\")\n",
    "plt.show()\n",
    "\n"
   ]
  },
  {
   "cell_type": "markdown",
   "metadata": {},
   "source": [
    "### Comparing classification models"
   ]
  },
  {
   "cell_type": "code",
   "execution_count": 6,
   "metadata": {},
   "outputs": [
    {
     "name": "stdout",
     "output_type": "stream",
     "text": [
      "Using Seed: 7\n",
      "Using Seed: 42\n"
     ]
    },
    {
     "name": "stderr",
     "output_type": "stream",
     "text": [
      "c:\\Python310\\lib\\site-packages\\sklearn\\neural_network\\_multilayer_perceptron.py:702: ConvergenceWarning: Stochastic Optimizer: Maximum iterations (500) reached and the optimization hasn't converged yet.\n",
      "  warnings.warn(\n"
     ]
    },
    {
     "name": "stdout",
     "output_type": "stream",
     "text": [
      "Using Seed: 123\n",
      "LR: 0.9214289566069752\n",
      "KNN: 0.8789136492735564\n",
      "CART: 0.8735234084227891\n",
      "NB: 0.8801940253875239\n",
      "SVM: 0.8989639557209217\n",
      "RandomForest: 0.8819185644650042\n",
      "GradientBoosting: 0.8667487669422654\n",
      "MLP: 0.9136626658801581\n"
     ]
    }
   ],
   "source": [
    "maxiter=500\n",
    "models = []\n",
    "models.append(( 'LR' , LogisticRegression(max_iter=maxiter)))\n",
    "models.append(( 'KNN' , KNeighborsClassifier()))\n",
    "models.append(( 'CART' , DecisionTreeClassifier()))\n",
    "models.append(( 'NB' , GaussianNB()))\n",
    "models.append(( 'SVM' , SVC(max_iter=maxiter)))\n",
    "models.append(( 'RandomForest' , RandomForestClassifier()))\n",
    "models.append(( 'GradientBoosting' , GradientBoostingClassifier()))\n",
    "models.append(( 'MLP' , MLPClassifier(max_iter=maxiter)))\n",
    "\n",
    "#test options and evaluation metric\n",
    "num_folds = 10\n",
    "num_instances = len(X_train)\n",
    "seed_list = [7, 42, 123]\n",
    "scoring =  'recall'\n",
    "results = {name: [] for name, _ in models}\n",
    "names = []\n",
    "\n",
    "for seed in seed_list:\n",
    "    print(f\"Using Seed: {seed}\")\n",
    "    for name, model in models:\n",
    "        kfold = KFold(n_splits=num_folds, random_state=seed, shuffle=True)\n",
    "        cv_results = cross_val_score(model, X_train, y_train, cv=kfold, scoring=scoring)\n",
    "        results[name].append(cv_results.mean())\n",
    "\n",
    "# Print the average performance for each model across different seeds\n",
    "for name in results:\n",
    "    avg_performance = sum(results[name]) / len(seed_list)\n",
    "    print(f\"{name}: {avg_performance}\")\n",
    " \n"
   ]
  },
  {
   "cell_type": "markdown",
   "metadata": {},
   "source": [
    "### Optimizing the selected algorithms ( LR, MLP, SVM)"
   ]
  },
  {
   "cell_type": "code",
   "execution_count": 7,
   "metadata": {},
   "outputs": [
    {
     "name": "stdout",
     "output_type": "stream",
     "text": [
      "{'C': 0.1, 'max_iter': 100, 'multi_class': 'auto'}\n",
      "Training recall: 0.9173553719008265\n",
      "Test recall: 0.8846153846153846\n",
      "Confusion Matrix:\n",
      "[[101   1]\n",
      " [  6  46]]\n"
     ]
    },
    {
     "name": "stderr",
     "output_type": "stream",
     "text": [
      "c:\\Python310\\lib\\site-packages\\sklearn\\utils\\deprecation.py:87: FutureWarning: Function plot_confusion_matrix is deprecated; Function `plot_confusion_matrix` is deprecated in 1.0 and will be removed in 1.2. Use one of the class methods: ConfusionMatrixDisplay.from_predictions or ConfusionMatrixDisplay.from_estimator.\n",
      "  warnings.warn(msg, category=FutureWarning)\n"
     ]
    },
    {
     "data": {
      "image/png": "[encoded data removed]",
      "text/plain": [
       "<Figure size 640x480 with 2 Axes>"
      ]
     },
     "metadata": {},
     "output_type": "display_data"
    }
   ],
   "source": [
    "#opt logistic regression\n",
    "eval={}\n",
    "param_grid = {\n",
    "    'C': [0.1, 1, 10],\n",
    "    'max_iter': [100, 200, 500],\n",
    "    'multi_class': ['auto', 'ovr', 'multinomial']\n",
    "}\n",
    "LR = LogisticRegression(random_state=42)\n",
    "grid_search = GridSearchCV(LR, param_grid, cv=10)\n",
    "grid_search.fit(X_train, y_train)\n",
    "best_lr_model = grid_search.best_estimator_\n",
    "print(grid_search.best_params_)\n",
    "\n",
    "#perform cross-validation and get predicted labels for the training set\n",
    "y_train_pred = cross_val_predict(best_lr_model, X_train, y_train, cv=10)\n",
    "y_test_pred = best_lr_model.predict(X_test)\n",
    "\n",
    "train_recall = recall_score(y_train, y_train_pred)\n",
    "test_recall = recall_score(y_test, y_test_pred)\n",
    "\n",
    "\n",
    "\n",
    "# recall is the most important since the goal here is to minimize false negatives (avoid predicting a malignant cancer as benign)\n",
    "print(\"Training recall:\", train_recall)\n",
    "print(\"Test recall:\", test_recall)\n",
    "\n",
    "conf_matrix = confusion_matrix(y_test, y_test_pred)\n",
    "print(\"Confusion Matrix:\")\n",
    "print(conf_matrix)\n",
    "\n",
    "plot_confusion_matrix(best_lr_model, X_test, y_test, cmap='Blues_r')\n",
    "plt.title(\"Confusion Matrix\")\n",
    "plt.show()\n"
   ]
  },
  {
   "cell_type": "code",
   "execution_count": 8,
   "metadata": {},
   "outputs": [
    {
     "name": "stdout",
     "output_type": "stream",
     "text": [
      "{'activation': 'logistic', 'alpha': 0.01, 'hidden_layer_sizes': (100, 50), 'solver': 'adam'}\n",
      "\n",
      "The classifier accuracy score is 0.95\n",
      "\n",
      "Training recall: 0.9090909090909091\n",
      "Test recall: 0.8846153846153846\n",
      "Confusion Matrix:\n",
      "[[101   1]\n",
      " [  6  46]]\n"
     ]
    },
    {
     "name": "stderr",
     "output_type": "stream",
     "text": [
      "c:\\Python310\\lib\\site-packages\\sklearn\\utils\\deprecation.py:87: FutureWarning: Function plot_confusion_matrix is deprecated; Function `plot_confusion_matrix` is deprecated in 1.0 and will be removed in 1.2. Use one of the class methods: ConfusionMatrixDisplay.from_predictions or ConfusionMatrixDisplay.from_estimator.\n",
      "  warnings.warn(msg, category=FutureWarning)\n"
     ]
    },
    {
     "data": {
      "image/png": "[encoded data removed]",
      "text/plain": [
       "<Figure size 640x480 with 2 Axes>"
      ]
     },
     "metadata": {},
     "output_type": "display_data"
    },
    {
     "data": {
      "text/plain": [
       "{'Train Recall': 0.9173553719008265,\n",
       " 'Test Recall': 0.9038461538461539,\n",
       " 'Test F1 Score': 0.9400000000000001}"
      ]
     },
     "execution_count": 8,
     "metadata": {},
     "output_type": "execute_result"
    }
   ],
   "source": [
    "#opt MLP\n",
    "eval={}\n",
    "param_grid = {\n",
    "    'hidden_layer_sizes': [(50,), (100,), (50, 50), (100, 50), (100, 100)],\n",
    "    'activation': ['logistic', 'tanh', 'relu'],\n",
    "    'solver': ['lbfgs', 'adam'],\n",
    "    'alpha': [0.0001, 0.001, 0.01],\n",
    "    \n",
    "}\n",
    "mlp = MLPClassifier(random_state=42, max_iter=2000)\n",
    "grid_search = GridSearchCV(mlp, param_grid, cv=5)\n",
    "grid_search.fit(X_train, y_train)\n",
    "best_mlp_model = grid_search.best_estimator_\n",
    "print(grid_search.best_params_)\n",
    "classifier_score = best_mlp_model.score(X_test, y_test)\n",
    "print('\\nThe classifier accuracy score is {:03.2f}\\n'.format(classifier_score))\n",
    "\n",
    "# Perform cross-validation and get predicted labels for the training set\n",
    "y_train_pred = cross_val_predict(best_mlp_model, X_train, y_train, cv=5)\n",
    "\n",
    "y_test_pred = best_mlp_model.predict(X_test)\n",
    "\n",
    "train_recall = recall_score(y_train, y_train_pred)\n",
    "test_recall = recall_score(y_test, y_test_pred)\n",
    "\n",
    "\n",
    "\n",
    "# recall is the most important metric since the goal here is to minimize false negatives (avoid predicting a malignant cancer as benign)\n",
    "print(\"Training recall:\", train_recall)\n",
    "print(\"Test recall:\", test_recall)\n",
    "\n",
    "conf_matrix = confusion_matrix(y_test, y_test_pred)\n",
    "print(\"Confusion Matrix:\")\n",
    "print(conf_matrix)\n",
    "\n",
    "plot_confusion_matrix(best_mlp_model, X_test, y_test, cmap='Blues_r')\n",
    "plt.title(\"Confusion Matrix\")\n",
    "plt.show()\n",
    "evaluation_dict\n"
   ]
  },
  {
   "cell_type": "code",
   "execution_count": 9,
   "metadata": {},
   "outputs": [],
   "source": [
    "'''#baseline\n",
    "eval={}\n",
    "param_grid = {\n",
    "    'C': [0.1, 1, 10, 100],    \n",
    "    'kernel': ['linear', 'rbf', 'poly'],  \n",
    "    'degree': [2, 3, 4],               \n",
    "    'gamma': ['scale', 'auto', 0.1, 1],  \n",
    "\n",
    "}\n",
    "svm_model = SVC(probability=True)\n",
    "grid_search = GridSearchCV(svm_model, param_grid, cv=5)\n",
    "grid_search.fit(X_train, y_train)\n",
    "best_svm_model = grid_search.best_estimator_\n",
    "print(grid_search.best_params_)\n",
    "\n",
    "# Perform cross-validation and get predicted labels for the training set\n",
    "y_train_pred = cross_val_predict(best_svm_model, X_train, y_train, cv=5)\n",
    "\n",
    "y_test_pred = best_svm_model.predict(X_test)\n",
    "\n",
    "# recall is the most important since the goal here is to minimize false negatives (avoid predicting a malignant cancer as benign)\n",
    "train_recall = recall_score(y_train, y_train_pred)\n",
    "test_recall = recall_score(y_test, y_test_pred)\n",
    "test_f1_score = f1_score(y_test, y_test_pred)\n",
    "evaluation_dict = {\n",
    "    \"Train Recall\": train_recall,\n",
    "    \"Test Recall\": test_recall,\n",
    "    \"Test F1 Score\": test_f1_score\n",
    "}\n",
    "\n",
    "print(evaluation_dict)\n",
    "\n",
    "conf_matrix = confusion_matrix(y_test, y_test_pred)\n",
    "print(\"Confusion Matrix:\")\n",
    "print(conf_matrix)\n",
    "\n",
    "plot_confusion_matrix(best_svm_model, X_test, y_test, cmap='Blues_r')\n",
    "plt.title(\"Confusion Matrix\")\n",
    "plt.show()\n",
    "'''\n"
   ]
  }
 ],
 "metadata": {
  "kernelspec": {
   "display_name": "Python 3",
   "language": "python",
   "name": "python3"
  },
  "language_info": {
   "codemirror_mode": {
    "name": "ipython",
    "version": 3
   },
   "file_extension": ".py",
   "mimetype": "text/x-python",
   "name": "python",
   "nbconvert_exporter": "python",
   "pygments_lexer": "ipython3",
   "version": "3.10.4"
  },
  "orig_nbformat": 4
 },
 "nbformat": 4,
 "nbformat_minor": 2
}
